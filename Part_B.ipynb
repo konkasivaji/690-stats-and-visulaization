{
  "nbformat": 4,
  "nbformat_minor": 0,
  "metadata": {
    "colab": {
      "provenance": [],
      "authorship_tag": "ABX9TyPYKLabBYXvs4KvyBTih4AZ",
      "include_colab_link": true
    },
    "kernelspec": {
      "name": "python3",
      "display_name": "Python 3"
    },
    "language_info": {
      "name": "python"
    }
  },
  "cells": [
    {
      "cell_type": "markdown",
      "metadata": {
        "id": "view-in-github",
        "colab_type": "text"
      },
      "source": [
        "<a href=\"https://colab.research.google.com/github/konkasivaji/690-stats-and-visulaization/blob/main/Part_B.ipynb\" target=\"_parent\"><img src=\"https://colab.research.google.com/assets/colab-badge.svg\" alt=\"Open In Colab\"/></a>"
      ]
    },
    {
      "cell_type": "markdown",
      "source": [
        "# Public Sector\n",
        "The public sector is also part of the economy that maintains infrastructure, public transportation, public education, health care, and police and military services, among other things. In today's world, every nation devotes a greater percentage of its GDP on the Military. Military has a crucial role in protecting democratic and free market movements from both internal and external dangers by providing security assistance, training, and equipment. So lets investigate the publis sector. with this information, like based on its military spending and level of dependence on foreign countries when it comes to imports."
      ],
      "metadata": {
        "id": "_Qgh-GBNpPHO"
      }
    },
    {
      "cell_type": "markdown",
      "source": [
        "## Why is it important to you and/or to others?\n",
        "Spending on the military makes the military stronger. This power makes people less likely to attack on country. If the country doesn't spend money on the military, its enemies may see it as an easy target. So, even though local defense spending may be more expensive, it creates more value in the form of stronger national security and less disruptions to trade and commerce. If a country's defense system is fully integrated, it can also help the economy.\n"
      ],
      "metadata": {
        "id": "7fxHOBeLpR2Z"
      }
    },
    {
      "cell_type": "markdown",
      "source": [
        "## What questions do you have in mind and would like to answer?\n",
        "Based on these indicators **Military expendicture (cureent USD), Military expenditure(% of GDP) and Arms imports( SIPRI trend indicator values)** i would like to do some research on: \n",
        "  * [what percentage of GDP is being spent on military?](#theme-installion)\n",
        "  * [What percentage of Arms imports are Going on?](#theme-installion)\n",
        "  * [What are the Military expendicture for those countries?](#theme-installion)"
      ],
      "metadata": {
        "id": "J_OSr7_xpsju"
      }
    },
    {
      "cell_type": "markdown",
      "source": [
        "#Analysis\n",
        "* Data Source : Wang, C. (2021). The world development explorer Available from [http﻿://www.worlddev.xyz](#theme-installion)\n",
        "* **Topics : Public Sector**\n",
        "* **[Countries: India, Pakisthan, Russian Federation, China, United States.](#theme-installion)**\n",
        "* **[Time Period : 2007 - 2020](#theme-installion)**"
      ],
      "metadata": {
        "id": "_auvATfDqF9q"
      }
    },
    {
      "cell_type": "code",
      "execution_count": 18,
      "metadata": {
        "id": "Q2chOLvXpKd6"
      },
      "outputs": [],
      "source": [
        "import pandas as pd\n",
        "import plotly\n",
        "import plotly.express as px"
      ]
    },
    {
      "cell_type": "code",
      "source": [],
      "metadata": {
        "id": "m3MXL6wi8Aze"
      },
      "execution_count": null,
      "outputs": []
    }
  ]
}