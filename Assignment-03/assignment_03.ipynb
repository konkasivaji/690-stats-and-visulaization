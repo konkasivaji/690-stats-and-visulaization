{
  "nbformat": 4,
  "nbformat_minor": 0,
  "metadata": {
    "colab": {
      "provenance": [],
      "authorship_tag": "ABX9TyNQXRau7kwq36syoH9iFC7a",
      "include_colab_link": true
    },
    "kernelspec": {
      "name": "python3",
      "display_name": "Python 3"
    },
    "language_info": {
      "name": "python"
    }
  },
  "cells": [
    {
      "cell_type": "markdown",
      "metadata": {
        "id": "view-in-github",
        "colab_type": "text"
      },
      "source": [
        "<a href=\"https://colab.research.google.com/github/konkasivaji/690-stats-and-visulaization/blob/main/Assignment-03/assignment_03.ipynb\" target=\"_parent\"><img src=\"https://colab.research.google.com/assets/colab-badge.svg\" alt=\"Open In Colab\"/></a>"
      ]
    },
    {
      "cell_type": "markdown",
      "source": [
        "Printing 10 by 10 matrix neatly arranged like the following (one space between each number)"
      ],
      "metadata": {
        "id": "TCyvoG1Go2kU"
      }
    },
    {
      "cell_type": "code",
      "execution_count": 1,
      "metadata": {
        "colab": {
          "base_uri": "https://localhost:8080/"
        },
        "id": "s3Bt8uNjohyA",
        "outputId": "712cd686-fea8-44e5-8e05-12394fc39a9e"
      },
      "outputs": [
        {
          "output_type": "stream",
          "name": "stdout",
          "text": [
            "2 9 4 9 9 6 9 4 6 2 \n",
            "9 3 5 1 8 9 9 1 8 5 \n",
            "1 1 9 5 0 7 3 2 1 5 \n",
            "2 4 8 8 2 3 2 3 1 7 \n",
            "9 4 1 2 3 4 5 6 3 7 \n",
            "8 4 1 4 5 1 1 6 3 0 \n",
            "2 7 7 5 6 6 5 2 7 2 \n",
            "1 4 2 6 4 0 3 2 9 3 \n",
            "0 2 6 4 4 0 6 1 1 9 \n",
            "9 9 9 3 8 4 3 6 8 8 \n"
          ]
        }
      ],
      "source": [
        "import random\n",
        "for i in range(0,10):\n",
        "    for j in range(0,10):\n",
        "        print(random.randint(0,9),end=\" \")\n",
        "    print('')"
      ]
    },
    {
      "cell_type": "markdown",
      "source": [
        "Printing if the random number is an odd number, print \"@\" instead. like the following:"
      ],
      "metadata": {
        "id": "G0IQeExWo6OE"
      }
    },
    {
      "cell_type": "code",
      "source": [
        "for i in range (0,10):\n",
        "    for j in range (0,10):\n",
        "        k=random.randint(0,9)\n",
        "        if k%2==0:\n",
        "            print(k,end=' ')\n",
        "        else:\n",
        "            print('@',end=' ')\n",
        "\n",
        "    print('')"
      ],
      "metadata": {
        "colab": {
          "base_uri": "https://localhost:8080/"
        },
        "id": "ZgzVUmlpou2-",
        "outputId": "5e505f45-531e-42cf-d979-4496238127a3"
      },
      "execution_count": 2,
      "outputs": [
        {
          "output_type": "stream",
          "name": "stdout",
          "text": [
            "@ @ 8 6 @ @ 8 @ @ @ \n",
            "6 @ 6 @ @ @ @ @ @ @ \n",
            "@ @ @ @ 2 @ @ @ @ @ \n",
            "@ @ 2 8 @ 4 @ 6 @ 8 \n",
            "0 0 @ 2 @ @ 4 8 @ @ \n",
            "@ 4 @ @ 6 @ 8 8 @ 0 \n",
            "6 2 @ @ @ @ @ @ 2 8 \n",
            "6 4 4 @ 8 @ 4 0 8 0 \n",
            "@ @ @ 6 @ 8 2 0 @ @ \n",
            "2 @ 8 8 8 @ 2 0 0 @ \n"
          ]
        }
      ]
    },
    {
      "cell_type": "markdown",
      "source": [
        "Calculate and Print the total of each row like the following (use \"*\" to separate the total from the numbers):"
      ],
      "metadata": {
        "id": "25CXxQetpJSz"
      }
    },
    {
      "cell_type": "code",
      "source": [
        "for i in range (0,10):\n",
        "  Sum=0                   # Taking sum=0 intially\n",
        "  for j in range (0,10):\n",
        "    k=random.randint(0,9)\n",
        "    Sum=Sum+k             # Adding the each value to sum and storing in it.\n",
        "    print(k,end=' ')\n",
        "  print('*',Sum,end=' ')\n",
        "\n",
        "  print(' ')"
      ],
      "metadata": {
        "colab": {
          "base_uri": "https://localhost:8080/"
        },
        "id": "LwTxxCimpGFh",
        "outputId": "75539336-ee5e-4c07-cee3-7eff683e9dcf"
      },
      "execution_count": 3,
      "outputs": [
        {
          "output_type": "stream",
          "name": "stdout",
          "text": [
            "0 5 7 1 4 6 7 9 0 7 * 46  \n",
            "6 0 7 0 9 3 4 8 6 2 * 45  \n",
            "7 2 1 2 7 1 9 6 4 0 * 39  \n",
            "5 1 6 3 5 2 5 1 5 6 * 39  \n",
            "4 1 0 5 9 0 7 9 7 7 * 49  \n",
            "6 2 6 7 1 1 3 7 3 2 * 38  \n",
            "0 8 4 5 1 8 9 7 4 3 * 49  \n",
            "7 9 2 3 0 4 5 3 0 4 * 37  \n",
            "8 6 1 3 1 9 0 9 6 6 * 49  \n",
            "5 9 1 9 8 5 5 7 6 4 * 59  \n"
          ]
        }
      ]
    },
    {
      "cell_type": "markdown",
      "source": [
        "Surround the matrix with asterisks (*) like the following:"
      ],
      "metadata": {
        "id": "UwGWOhOupYOA"
      }
    },
    {
      "cell_type": "code",
      "source": [
        "for i in range (0,23):\n",
        "    print('*',end='') # to print top * line\n",
        "print('')\n",
        "for j in range (0,10):\n",
        "    Sum=0\n",
        "    print('*',end='')\n",
        "    for n in range (0,10):\n",
        "        k=random.randint(0,9)\n",
        "        Sum=Sum+k\n",
        "        print('',k,end='')\n",
        "    \n",
        "    print(' *',end='')\n",
        "    print('')\n",
        "for h in range (0,23):\n",
        "    print('*',end='')  # # to print bottom * line"
      ],
      "metadata": {
        "colab": {
          "base_uri": "https://localhost:8080/"
        },
        "id": "txfAboOqpSAA",
        "outputId": "de8c6eed-9dc7-43d3-bf99-4fa24aa28cd8"
      },
      "execution_count": 5,
      "outputs": [
        {
          "output_type": "stream",
          "name": "stdout",
          "text": [
            "***********************\n",
            "* 3 2 4 1 1 5 3 0 5 2 *\n",
            "* 2 9 2 9 9 0 2 1 5 1 *\n",
            "* 6 8 7 9 8 4 6 5 9 3 *\n",
            "* 8 4 8 0 7 3 5 9 8 8 *\n",
            "* 6 4 5 9 2 6 4 5 4 6 *\n",
            "* 4 1 6 6 1 6 3 1 2 3 *\n",
            "* 9 1 5 0 0 3 3 4 8 5 *\n",
            "* 4 6 8 6 5 4 1 9 8 4 *\n",
            "* 2 1 0 2 3 5 5 4 6 8 *\n",
            "* 5 4 0 9 9 0 5 4 5 7 *\n",
            "***********************"
          ]
        }
      ]
    },
    {
      "cell_type": "markdown",
      "source": [
        "Calculate and Print the total of each row and column like the following:"
      ],
      "metadata": {
        "id": "FgeZyEgBpz2R"
      }
    },
    {
      "cell_type": "code",
      "source": [
        "col_sum = [0]*10\n",
        "row_val = 0\n",
        "for i in range(10):\n",
        "    row_val = 0\n",
        "    for j in range(10):\n",
        "        val = random.randint(0,9)\n",
        "        row_val=row_val+val\n",
        "        col_sum[j] = col_sum[j] + val\n",
        "        print(val, end=\"  \") \n",
        "    print(\"*\",end=\" \")\n",
        "    print(row_val,end=\"  \")\n",
        "    print(\"\\n\")\n",
        "for k in range(10):\n",
        "    print(\"*\",end=\"  \")\n",
        "i = 0\n",
        "print(\"\\n\")\n",
        "while i<=9:\n",
        "    print(col_sum[i],end=\" \")\n",
        "    i= i+1"
      ],
      "metadata": {
        "colab": {
          "base_uri": "https://localhost:8080/"
        },
        "id": "LODx8ds3pfJk",
        "outputId": "851a81ee-d8e5-447e-916f-81bb86a586da"
      },
      "execution_count": 6,
      "outputs": [
        {
          "output_type": "stream",
          "name": "stdout",
          "text": [
            "3  4  5  2  3  3  6  2  0  4  * 32  \n",
            "\n",
            "7  1  1  9  7  3  3  6  4  0  * 41  \n",
            "\n",
            "9  7  0  3  4  1  8  7  7  6  * 52  \n",
            "\n",
            "8  8  3  3  7  0  1  3  2  1  * 36  \n",
            "\n",
            "1  5  6  1  3  5  2  2  6  5  * 36  \n",
            "\n",
            "5  6  1  5  6  7  7  8  5  9  * 59  \n",
            "\n",
            "4  8  0  2  8  4  9  6  3  2  * 46  \n",
            "\n",
            "9  8  4  5  2  4  2  6  3  8  * 51  \n",
            "\n",
            "3  2  5  2  9  4  5  2  9  9  * 50  \n",
            "\n",
            "4  2  2  3  0  0  7  1  9  6  * 34  \n",
            "\n",
            "*  *  *  *  *  *  *  *  *  *  \n",
            "\n",
            "53 51 27 35 49 31 50 43 48 50 "
          ]
        }
      ]
    }
  ]
}