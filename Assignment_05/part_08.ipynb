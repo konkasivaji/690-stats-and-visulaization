{
  "nbformat": 4,
  "nbformat_minor": 0,
  "metadata": {
    "colab": {
      "name": "Part 08.ipynb",
      "provenance": [],
      "include_colab_link": true
    },
    "kernelspec": {
      "name": "python3",
      "display_name": "Python 3"
    },
    "language_info": {
      "name": "python"
    }
  },
  "cells": [
    {
      "cell_type": "markdown",
      "metadata": {
        "id": "view-in-github",
        "colab_type": "text"
      },
      "source": [
        "<a href=\"https://colab.research.google.com/github/konkasivaji/690-stats-and-visulaization/blob/main/Assignment_05/part_08.ipynb\" target=\"_parent\"><img src=\"https://colab.research.google.com/assets/colab-badge.svg\" alt=\"Open In Colab\"/></a>"
      ]
    },
    {
      "cell_type": "markdown",
      "source": [
        "# Python Recap"
      ],
      "metadata": {
        "id": "sA0jHjNXsJAP"
      }
    },
    {
      "cell_type": "code",
      "source": [
        "def add_numbers(x, y):\n",
        "    return x + y"
      ],
      "metadata": {
        "id": "uTLBVcZ8sNg3"
      },
      "execution_count": 1,
      "outputs": []
    },
    {
      "cell_type": "code",
      "source": [
        "language = \"Python\"\n",
        "\n",
        "if language == \"Python\":\n",
        "    print(\"Let the fun begin!\")\n",
        "else:\n",
        "    print(\"You sure?\")"
      ],
      "metadata": {
        "colab": {
          "base_uri": "https://localhost:8080/"
        },
        "id": "FDwUie-DsPmn",
        "outputId": "842dc51c-5432-45e5-8096-c405ac7fe65e"
      },
      "execution_count": 2,
      "outputs": [
        {
          "output_type": "stream",
          "name": "stdout",
          "text": [
            "Let the fun begin!\n"
          ]
        }
      ]
    },
    {
      "cell_type": "code",
      "source": [
        "# can be above\n",
        "print(\"Hello World\") # next to\n",
        "# or below code"
      ],
      "metadata": {
        "colab": {
          "base_uri": "https://localhost:8080/"
        },
        "id": "HAa5HnaOsS2r",
        "outputId": "2ede8504-d2b7-453b-c142-5bc29d73fdba"
      },
      "execution_count": 3,
      "outputs": [
        {
          "output_type": "stream",
          "name": "stdout",
          "text": [
            "Hello World\n"
          ]
        }
      ]
    },
    {
      "cell_type": "code",
      "source": [
        "name = \"Mary\"\n",
        "print(name)"
      ],
      "metadata": {
        "colab": {
          "base_uri": "https://localhost:8080/"
        },
        "id": "t2An7AwasWjI",
        "outputId": "3bbf8045-4e59-4923-8a74-d49f880acec9"
      },
      "execution_count": 4,
      "outputs": [
        {
          "output_type": "stream",
          "name": "stdout",
          "text": [
            "Mary\n"
          ]
        }
      ]
    },
    {
      "cell_type": "code",
      "source": [
        "age = 30\n",
        "print(age)"
      ],
      "metadata": {
        "colab": {
          "base_uri": "https://localhost:8080/"
        },
        "id": "UJxDCl-JsZNX",
        "outputId": "e778097b-7bda-4850-d94f-d815b7e56699"
      },
      "execution_count": 5,
      "outputs": [
        {
          "output_type": "stream",
          "name": "stdout",
          "text": [
            "30\n"
          ]
        }
      ]
    },
    {
      "cell_type": "code",
      "source": [
        "print(name, \"is\", age, \"years old\")"
      ],
      "metadata": {
        "colab": {
          "base_uri": "https://localhost:8080/"
        },
        "id": "gQlvxctwsbKj",
        "outputId": "871b76cb-6729-4e7a-a872-8325f48caf8d"
      },
      "execution_count": 6,
      "outputs": [
        {
          "output_type": "stream",
          "name": "stdout",
          "text": [
            "Mary is 30 years old\n"
          ]
        }
      ]
    },
    {
      "cell_type": "code",
      "source": [
        "age = 30"
      ],
      "metadata": {
        "id": "Ym2ZZ1uesdKA"
      },
      "execution_count": 7,
      "outputs": []
    },
    {
      "cell_type": "code",
      "source": [
        "age"
      ],
      "metadata": {
        "colab": {
          "base_uri": "https://localhost:8080/"
        },
        "id": "eg-fJ8Josl_O",
        "outputId": "18049a2e-53d0-44f2-d263-2078b9ff82fc"
      },
      "execution_count": 8,
      "outputs": [
        {
          "output_type": "execute_result",
          "data": {
            "text/plain": [
              "30"
            ]
          },
          "metadata": {},
          "execution_count": 8
        }
      ]
    },
    {
      "cell_type": "code",
      "source": [
        "type(age)"
      ],
      "metadata": {
        "colab": {
          "base_uri": "https://localhost:8080/"
        },
        "id": "Jl4k01d0sn33",
        "outputId": "8b9c3aa0-6b0c-485a-f907-6456404e8091"
      },
      "execution_count": 9,
      "outputs": [
        {
          "output_type": "execute_result",
          "data": {
            "text/plain": [
              "int"
            ]
          },
          "metadata": {},
          "execution_count": 9
        }
      ]
    },
    {
      "cell_type": "code",
      "source": [
        "price = 2.50"
      ],
      "metadata": {
        "id": "IO8jbNAisqMb"
      },
      "execution_count": 10,
      "outputs": []
    },
    {
      "cell_type": "code",
      "source": [
        "price"
      ],
      "metadata": {
        "colab": {
          "base_uri": "https://localhost:8080/"
        },
        "id": "zbVvnzFVssHw",
        "outputId": "5167dbab-3787-482a-9a5f-7e31a2fc6928"
      },
      "execution_count": 11,
      "outputs": [
        {
          "output_type": "execute_result",
          "data": {
            "text/plain": [
              "2.5"
            ]
          },
          "metadata": {},
          "execution_count": 11
        }
      ]
    },
    {
      "cell_type": "code",
      "source": [
        "type(price)"
      ],
      "metadata": {
        "colab": {
          "base_uri": "https://localhost:8080/"
        },
        "id": "GMqy065sst26",
        "outputId": "b90b0033-e8c2-4aff-ea4b-3ac8245082c9"
      },
      "execution_count": 12,
      "outputs": [
        {
          "output_type": "execute_result",
          "data": {
            "text/plain": [
              "float"
            ]
          },
          "metadata": {},
          "execution_count": 12
        }
      ]
    },
    {
      "cell_type": "code",
      "source": [
        "0.1 * 3"
      ],
      "metadata": {
        "colab": {
          "base_uri": "https://localhost:8080/"
        },
        "id": "z65NRyX-swaA",
        "outputId": "225feb15-7e11-4fe6-f057-558d43903d0a"
      },
      "execution_count": 13,
      "outputs": [
        {
          "output_type": "execute_result",
          "data": {
            "text/plain": [
              "0.30000000000000004"
            ]
          },
          "metadata": {},
          "execution_count": 13
        }
      ]
    },
    {
      "cell_type": "code",
      "source": [
        "from decimal import Decimal"
      ],
      "metadata": {
        "id": "Bth95Ivqsziw"
      },
      "execution_count": 14,
      "outputs": []
    },
    {
      "cell_type": "code",
      "source": [
        "Decimal('0.1') * 3"
      ],
      "metadata": {
        "colab": {
          "base_uri": "https://localhost:8080/"
        },
        "id": "UhxLWGghs17O",
        "outputId": "62854442-c2e9-4406-b6e9-9650d79e9380"
      },
      "execution_count": 15,
      "outputs": [
        {
          "output_type": "execute_result",
          "data": {
            "text/plain": [
              "Decimal('0.3')"
            ]
          },
          "metadata": {},
          "execution_count": 15
        }
      ]
    },
    {
      "cell_type": "code",
      "source": [
        "print(\"Hello unicode\")"
      ],
      "metadata": {
        "colab": {
          "base_uri": "https://localhost:8080/"
        },
        "id": "lWVyMEw2s3zr",
        "outputId": "4254fa2a-b616-4ad6-f20e-ee8b32da0d17"
      },
      "execution_count": 16,
      "outputs": [
        {
          "output_type": "stream",
          "name": "stdout",
          "text": [
            "Hello unicode\n"
          ]
        }
      ]
    },
    {
      "cell_type": "code",
      "source": [
        "print('Omelette Du Fromage')"
      ],
      "metadata": {
        "colab": {
          "base_uri": "https://localhost:8080/"
        },
        "id": "Sx1dtzRns6IK",
        "outputId": "0b1dea83-7521-48a1-dfb5-c4be3e4a433c"
      },
      "execution_count": 17,
      "outputs": [
        {
          "output_type": "stream",
          "name": "stdout",
          "text": [
            "Omelette Du Fromage\n"
          ]
        }
      ]
    },
    {
      "cell_type": "code",
      "source": [
        "type('Hello World')"
      ],
      "metadata": {
        "colab": {
          "base_uri": "https://localhost:8080/"
        },
        "id": "1nJJ2fmus73_",
        "outputId": "71397aad-0a3b-4293-a70e-ffadaa6a2d61"
      },
      "execution_count": 18,
      "outputs": [
        {
          "output_type": "execute_result",
          "data": {
            "text/plain": [
              "str"
            ]
          },
          "metadata": {},
          "execution_count": 18
        }
      ]
    },
    {
      "cell_type": "code",
      "source": [
        "len(\"Hello\")"
      ],
      "metadata": {
        "colab": {
          "base_uri": "https://localhost:8080/"
        },
        "id": "Tj_y78jCs9uj",
        "outputId": "492effdb-14f4-4392-de41-6e690a565b71"
      },
      "execution_count": 19,
      "outputs": [
        {
          "output_type": "execute_result",
          "data": {
            "text/plain": [
              "5"
            ]
          },
          "metadata": {},
          "execution_count": 19
        }
      ]
    },
    {
      "cell_type": "code",
      "source": [
        "joke = \"\"\"\n",
        "Me: What's the best thing about Switzerland?\n",
        "Friend: I don't know. What?\n",
        "Me: I don't know, but the flag is a big plus.\n",
        "F: :(\n",
        "\"\"\"\n",
        "\n",
        "print(joke)"
      ],
      "metadata": {
        "colab": {
          "base_uri": "https://localhost:8080/"
        },
        "id": "eFVnhs2-s_Xz",
        "outputId": "480eeb89-e588-4e6c-a8b0-2cc3c2cfe5a4"
      },
      "execution_count": 20,
      "outputs": [
        {
          "output_type": "stream",
          "name": "stdout",
          "text": [
            "\n",
            "Me: What's the best thing about Switzerland?\n",
            "Friend: I don't know. What?\n",
            "Me: I don't know, but the flag is a big plus.\n",
            "F: :(\n",
            "\n"
          ]
        }
      ]
    },
    {
      "cell_type": "code",
      "source": [
        "True"
      ],
      "metadata": {
        "colab": {
          "base_uri": "https://localhost:8080/"
        },
        "id": "YKsaKzsPtA-D",
        "outputId": "9022c66d-d8e7-46b3-f8ad-706b92b677c7"
      },
      "execution_count": 21,
      "outputs": [
        {
          "output_type": "execute_result",
          "data": {
            "text/plain": [
              "True"
            ]
          },
          "metadata": {},
          "execution_count": 21
        }
      ]
    },
    {
      "cell_type": "code",
      "source": [
        "type(False)"
      ],
      "metadata": {
        "colab": {
          "base_uri": "https://localhost:8080/"
        },
        "id": "Czq1AnI9tFme",
        "outputId": "5eab3a17-cb5e-45d9-c703-32eebff90966"
      },
      "execution_count": 22,
      "outputs": [
        {
          "output_type": "execute_result",
          "data": {
            "text/plain": [
              "bool"
            ]
          },
          "metadata": {},
          "execution_count": 22
        }
      ]
    },
    {
      "cell_type": "code",
      "source": [
        "x = None"
      ],
      "metadata": {
        "id": "My8HuLamtFjA"
      },
      "execution_count": 23,
      "outputs": []
    },
    {
      "cell_type": "code",
      "source": [
        "x"
      ],
      "metadata": {
        "id": "YX-16AdFtFgg"
      },
      "execution_count": 24,
      "outputs": []
    },
    {
      "cell_type": "code",
      "source": [
        "print(x)"
      ],
      "metadata": {
        "colab": {
          "base_uri": "https://localhost:8080/"
        },
        "id": "szq-cAoktFeB",
        "outputId": "e93468df-38ac-434f-f6c0-7bfb5d3c75ed"
      },
      "execution_count": 25,
      "outputs": [
        {
          "output_type": "stream",
          "name": "stdout",
          "text": [
            "None\n"
          ]
        }
      ]
    },
    {
      "cell_type": "code",
      "source": [
        "type(None)"
      ],
      "metadata": {
        "colab": {
          "base_uri": "https://localhost:8080/"
        },
        "id": "izeXXy0utFb1",
        "outputId": "d55f0076-a7f0-44a5-c604-d245e005ceff"
      },
      "execution_count": 26,
      "outputs": [
        {
          "output_type": "execute_result",
          "data": {
            "text/plain": [
              "NoneType"
            ]
          },
          "metadata": {},
          "execution_count": 26
        }
      ]
    },
    {
      "cell_type": "code",
      "source": [
        "age_as_string = \"28\""
      ],
      "metadata": {
        "id": "pbu5PRiytFZL"
      },
      "execution_count": 27,
      "outputs": []
    },
    {
      "cell_type": "code",
      "source": [
        "type(age_as_string)"
      ],
      "metadata": {
        "colab": {
          "base_uri": "https://localhost:8080/"
        },
        "id": "ve-V_sMdtFWj",
        "outputId": "fdf1a9f6-2cb4-4d25-f297-b9450e70b423"
      },
      "execution_count": 28,
      "outputs": [
        {
          "output_type": "execute_result",
          "data": {
            "text/plain": [
              "str"
            ]
          },
          "metadata": {},
          "execution_count": 28
        }
      ]
    },
    {
      "cell_type": "code",
      "source": [
        "int(age_as_string)"
      ],
      "metadata": {
        "colab": {
          "base_uri": "https://localhost:8080/"
        },
        "id": "97S5rAtAtFT_",
        "outputId": "7c7ba4a6-567d-4d43-842a-f20a017daba1"
      },
      "execution_count": 29,
      "outputs": [
        {
          "output_type": "execute_result",
          "data": {
            "text/plain": [
              "28"
            ]
          },
          "metadata": {},
          "execution_count": 29
        }
      ]
    },
    {
      "cell_type": "code",
      "source": [
        "age = int(age_as_string)"
      ],
      "metadata": {
        "id": "nNgnRkcltFRk"
      },
      "execution_count": 30,
      "outputs": []
    },
    {
      "cell_type": "code",
      "source": [
        "type(age)"
      ],
      "metadata": {
        "colab": {
          "base_uri": "https://localhost:8080/"
        },
        "id": "3-yBAudStFPI",
        "outputId": "151afc52-5053-4639-d8a1-c8a10e024a52"
      },
      "execution_count": 31,
      "outputs": [
        {
          "output_type": "execute_result",
          "data": {
            "text/plain": [
              "int"
            ]
          },
          "metadata": {},
          "execution_count": 31
        }
      ]
    },
    {
      "cell_type": "code",
      "source": [
        "type(13) == int"
      ],
      "metadata": {
        "colab": {
          "base_uri": "https://localhost:8080/"
        },
        "id": "nfUOJjLItFMY",
        "outputId": "116bb3dc-b9a4-481a-c51e-d474af203d19"
      },
      "execution_count": 32,
      "outputs": [
        {
          "output_type": "execute_result",
          "data": {
            "text/plain": [
              "True"
            ]
          },
          "metadata": {},
          "execution_count": 32
        }
      ]
    },
    {
      "cell_type": "code",
      "source": [
        "def hello():\n",
        "    return \"Hello World\""
      ],
      "metadata": {
        "id": "ipy-BrUztFJy"
      },
      "execution_count": 33,
      "outputs": []
    },
    {
      "cell_type": "code",
      "source": [
        "result = hello()"
      ],
      "metadata": {
        "id": "d1B3Mg7FtFHP"
      },
      "execution_count": 34,
      "outputs": []
    },
    {
      "cell_type": "code",
      "source": [
        "result"
      ],
      "metadata": {
        "colab": {
          "base_uri": "https://localhost:8080/",
          "height": 35
        },
        "id": "HvTJo70RtFFH",
        "outputId": "5b27a5d7-78a4-4261-e708-3ba028c3f288"
      },
      "execution_count": 35,
      "outputs": [
        {
          "output_type": "execute_result",
          "data": {
            "text/plain": [
              "'Hello World'"
            ],
            "application/vnd.google.colaboratory.intrinsic+json": {
              "type": "string"
            }
          },
          "metadata": {},
          "execution_count": 35
        }
      ]
    },
    {
      "cell_type": "code",
      "source": [
        "def empty():\n",
        "    x = 3"
      ],
      "metadata": {
        "id": "URqPFm-1tFCq"
      },
      "execution_count": 36,
      "outputs": []
    },
    {
      "cell_type": "code",
      "source": [
        "result= empty()"
      ],
      "metadata": {
        "id": "TDSHIMuztFAH"
      },
      "execution_count": 37,
      "outputs": []
    },
    {
      "cell_type": "code",
      "source": [
        "print(result)"
      ],
      "metadata": {
        "colab": {
          "base_uri": "https://localhost:8080/"
        },
        "id": "75P1s-6VtE93",
        "outputId": "2d1219e7-a6bb-4873-cb28-9811733e02fc"
      },
      "execution_count": 38,
      "outputs": [
        {
          "output_type": "stream",
          "name": "stdout",
          "text": [
            "None\n"
          ]
        }
      ]
    },
    {
      "cell_type": "code",
      "source": [
        "def add(x, y):\n",
        "    return x + y"
      ],
      "metadata": {
        "id": "4FlS2LgNtE7W"
      },
      "execution_count": 39,
      "outputs": []
    },
    {
      "cell_type": "code",
      "source": [
        "add(2, 3)"
      ],
      "metadata": {
        "colab": {
          "base_uri": "https://localhost:8080/"
        },
        "id": "hnZ6ZjUntE45",
        "outputId": "67ea0c8c-da28-414d-fa52-3f669b217ef4"
      },
      "execution_count": 40,
      "outputs": [
        {
          "output_type": "execute_result",
          "data": {
            "text/plain": [
              "5"
            ]
          },
          "metadata": {},
          "execution_count": 40
        }
      ]
    },
    {
      "cell_type": "code",
      "source": [
        "def add(*args):\n",
        "    return sum(args)"
      ],
      "metadata": {
        "id": "A40LaFU6tE2e"
      },
      "execution_count": 41,
      "outputs": []
    },
    {
      "cell_type": "code",
      "source": [
        "add(1, 1, 1)"
      ],
      "metadata": {
        "colab": {
          "base_uri": "https://localhost:8080/"
        },
        "id": "JTSYqP9ctEz1",
        "outputId": "5f6212eb-d107-4b45-a423-9763f5035be4"
      },
      "execution_count": 42,
      "outputs": [
        {
          "output_type": "execute_result",
          "data": {
            "text/plain": [
              "3"
            ]
          },
          "metadata": {},
          "execution_count": 42
        }
      ]
    },
    {
      "cell_type": "code",
      "source": [
        "add(1)"
      ],
      "metadata": {
        "colab": {
          "base_uri": "https://localhost:8080/"
        },
        "id": "iLw1QyartExd",
        "outputId": "e707cd8f-bc1e-46b5-e29b-ac6b35c9ee30"
      },
      "execution_count": 43,
      "outputs": [
        {
          "output_type": "execute_result",
          "data": {
            "text/plain": [
              "1"
            ]
          },
          "metadata": {},
          "execution_count": 43
        }
      ]
    },
    {
      "cell_type": "code",
      "source": [
        "3 + 3"
      ],
      "metadata": {
        "colab": {
          "base_uri": "https://localhost:8080/"
        },
        "id": "rwO-uWnstEvH",
        "outputId": "49c03f13-2126-40c9-8e56-3f6c996291fb"
      },
      "execution_count": 44,
      "outputs": [
        {
          "output_type": "execute_result",
          "data": {
            "text/plain": [
              "6"
            ]
          },
          "metadata": {},
          "execution_count": 44
        }
      ]
    },
    {
      "cell_type": "code",
      "source": [
        "11 % 7"
      ],
      "metadata": {
        "colab": {
          "base_uri": "https://localhost:8080/"
        },
        "id": "Oze6OAvYtEsq",
        "outputId": "0b6603b7-1f71-4126-efee-2561fd381352"
      },
      "execution_count": 45,
      "outputs": [
        {
          "output_type": "execute_result",
          "data": {
            "text/plain": [
              "4"
            ]
          },
          "metadata": {},
          "execution_count": 45
        }
      ]
    },
    {
      "cell_type": "code",
      "source": [
        "11 % 7"
      ],
      "metadata": {
        "colab": {
          "base_uri": "https://localhost:8080/"
        },
        "id": "lLWI61X8tEqU",
        "outputId": "03286e54-e829-4b76-ff4e-1931a8826651"
      },
      "execution_count": 46,
      "outputs": [
        {
          "output_type": "execute_result",
          "data": {
            "text/plain": [
              "4"
            ]
          },
          "metadata": {},
          "execution_count": 46
        }
      ]
    },
    {
      "cell_type": "code",
      "source": [
        "3 + 4 * 5"
      ],
      "metadata": {
        "colab": {
          "base_uri": "https://localhost:8080/"
        },
        "id": "33pAfAlBtEoI",
        "outputId": "8fe97ea2-55fd-40b7-c6c8-76f38dadceb7"
      },
      "execution_count": 47,
      "outputs": [
        {
          "output_type": "execute_result",
          "data": {
            "text/plain": [
              "23"
            ]
          },
          "metadata": {},
          "execution_count": 47
        }
      ]
    },
    {
      "cell_type": "code",
      "source": [
        "7 > 3"
      ],
      "metadata": {
        "colab": {
          "base_uri": "https://localhost:8080/"
        },
        "id": "sBLNp1UitElr",
        "outputId": "a13a2ac2-b5be-4c23-f81b-c44771ca7723"
      },
      "execution_count": 48,
      "outputs": [
        {
          "output_type": "execute_result",
          "data": {
            "text/plain": [
              "True"
            ]
          },
          "metadata": {},
          "execution_count": 48
        }
      ]
    },
    {
      "cell_type": "code",
      "source": [
        "8 >= 8"
      ],
      "metadata": {
        "colab": {
          "base_uri": "https://localhost:8080/"
        },
        "id": "gM-XI174tEjU",
        "outputId": "5cf5a7ba-ce0c-476e-84eb-e369defc006c"
      },
      "execution_count": 49,
      "outputs": [
        {
          "output_type": "execute_result",
          "data": {
            "text/plain": [
              "True"
            ]
          },
          "metadata": {},
          "execution_count": 49
        }
      ]
    },
    {
      "cell_type": "code",
      "source": [
        "True and True"
      ],
      "metadata": {
        "colab": {
          "base_uri": "https://localhost:8080/"
        },
        "id": "AjZgQB4ttEg5",
        "outputId": "ae1ce7d9-da78-461c-c3f2-2d8464c018d1"
      },
      "execution_count": 50,
      "outputs": [
        {
          "output_type": "execute_result",
          "data": {
            "text/plain": [
              "True"
            ]
          },
          "metadata": {},
          "execution_count": 50
        }
      ]
    },
    {
      "cell_type": "code",
      "source": [
        "not False"
      ],
      "metadata": {
        "colab": {
          "base_uri": "https://localhost:8080/"
        },
        "id": "knakrIuhtEec",
        "outputId": "138e905b-e42b-4ae8-fe17-0d5dbb13b582"
      },
      "execution_count": 51,
      "outputs": [
        {
          "output_type": "execute_result",
          "data": {
            "text/plain": [
              "True"
            ]
          },
          "metadata": {},
          "execution_count": 51
        }
      ]
    },
    {
      "cell_type": "code",
      "source": [
        "False or True"
      ],
      "metadata": {
        "colab": {
          "base_uri": "https://localhost:8080/"
        },
        "id": "X3Pr0hEttEb9",
        "outputId": "0c6c6e99-256a-4241-d4eb-007788107199"
      },
      "execution_count": 52,
      "outputs": [
        {
          "output_type": "execute_result",
          "data": {
            "text/plain": [
              "True"
            ]
          },
          "metadata": {},
          "execution_count": 52
        }
      ]
    },
    {
      "cell_type": "code",
      "source": [
        "days_subscribed = 28"
      ],
      "metadata": {
        "id": "0JPlQ5yqtDij"
      },
      "execution_count": 53,
      "outputs": []
    },
    {
      "cell_type": "code",
      "source": [
        "if days_subscribed >= 30:\n",
        "    print(\"Loyal customer\")\n",
        "elif days_subscribed >= 15:\n",
        "    print(\"Halfway there\")\n",
        "elif days_subscribed >= 1:\n",
        "    print(\"Builfing confidence\")\n",
        "else:\n",
        "    print(\"Too early\")"
      ],
      "metadata": {
        "colab": {
          "base_uri": "https://localhost:8080/"
        },
        "id": "rucZttRnuJAs",
        "outputId": "d625fc55-41c6-4d6e-d7b2-70d33a514001"
      },
      "execution_count": 54,
      "outputs": [
        {
          "output_type": "stream",
          "name": "stdout",
          "text": [
            "Halfway there\n"
          ]
        }
      ]
    },
    {
      "cell_type": "code",
      "source": [
        "names = ['Monica', 'Ross', 'Chandler', 'Rachel']"
      ],
      "metadata": {
        "id": "xrgl3p9vuLJH"
      },
      "execution_count": 55,
      "outputs": []
    },
    {
      "cell_type": "code",
      "source": [
        "for name in names:\n",
        "    print(name)"
      ],
      "metadata": {
        "colab": {
          "base_uri": "https://localhost:8080/"
        },
        "id": "8QcZH86VuNLo",
        "outputId": "27f19283-fb53-4493-b38d-54ccc094ee6d"
      },
      "execution_count": 56,
      "outputs": [
        {
          "output_type": "stream",
          "name": "stdout",
          "text": [
            "Monica\n",
            "Ross\n",
            "Chandler\n",
            "Rachel\n"
          ]
        }
      ]
    },
    {
      "cell_type": "code",
      "source": [
        "count = 0"
      ],
      "metadata": {
        "id": "xj_4t73ZuOtk"
      },
      "execution_count": 57,
      "outputs": []
    },
    {
      "cell_type": "code",
      "source": [
        "while count < 3:\n",
        "    print(\"Counting...\")\n",
        "    count += 1"
      ],
      "metadata": {
        "colab": {
          "base_uri": "https://localhost:8080/"
        },
        "id": "pZtz6eFruUg8",
        "outputId": "7354f20e-c990-41e5-d282-91555a4ed467"
      },
      "execution_count": 58,
      "outputs": [
        {
          "output_type": "stream",
          "name": "stdout",
          "text": [
            "Counting...\n",
            "Counting...\n",
            "Counting...\n"
          ]
        }
      ]
    },
    {
      "cell_type": "code",
      "source": [
        "l = [3, 'Hello World', True]"
      ],
      "metadata": {
        "id": "adIOSTh_uUew"
      },
      "execution_count": 59,
      "outputs": []
    },
    {
      "cell_type": "code",
      "source": [
        "len(l)"
      ],
      "metadata": {
        "colab": {
          "base_uri": "https://localhost:8080/"
        },
        "id": "obAcJ47euUci",
        "outputId": "0b388e92-770c-44fa-cb25-e0eecfc0abfd"
      },
      "execution_count": 60,
      "outputs": [
        {
          "output_type": "execute_result",
          "data": {
            "text/plain": [
              "3"
            ]
          },
          "metadata": {},
          "execution_count": 60
        }
      ]
    },
    {
      "cell_type": "code",
      "source": [
        "l[0]"
      ],
      "metadata": {
        "colab": {
          "base_uri": "https://localhost:8080/"
        },
        "id": "RSHsIK7YuUaa",
        "outputId": "e464054e-6cef-426b-a8be-58cea6464bdd"
      },
      "execution_count": 61,
      "outputs": [
        {
          "output_type": "execute_result",
          "data": {
            "text/plain": [
              "3"
            ]
          },
          "metadata": {},
          "execution_count": 61
        }
      ]
    },
    {
      "cell_type": "code",
      "source": [
        "l[-1]"
      ],
      "metadata": {
        "colab": {
          "base_uri": "https://localhost:8080/"
        },
        "id": "k992LyoduUXw",
        "outputId": "60faa442-0473-4ba6-9993-5f6330e2c433"
      },
      "execution_count": 62,
      "outputs": [
        {
          "output_type": "execute_result",
          "data": {
            "text/plain": [
              "True"
            ]
          },
          "metadata": {},
          "execution_count": 62
        }
      ]
    },
    {
      "cell_type": "code",
      "source": [
        "l.append('Python')"
      ],
      "metadata": {
        "id": "7ITCrKvtuUVD"
      },
      "execution_count": 63,
      "outputs": []
    },
    {
      "cell_type": "code",
      "source": [
        "'Python' in l"
      ],
      "metadata": {
        "colab": {
          "base_uri": "https://localhost:8080/"
        },
        "id": "1FmhIz77uURu",
        "outputId": "3efb191c-781e-4384-f7d3-44d9377bfed3"
      },
      "execution_count": 64,
      "outputs": [
        {
          "output_type": "execute_result",
          "data": {
            "text/plain": [
              "True"
            ]
          },
          "metadata": {},
          "execution_count": 64
        }
      ]
    },
    {
      "cell_type": "code",
      "source": [
        "'Ruby' in l"
      ],
      "metadata": {
        "colab": {
          "base_uri": "https://localhost:8080/"
        },
        "id": "amlBRPSjuUPA",
        "outputId": "4b86ce83-ac05-4f08-b2d3-686b722ab336"
      },
      "execution_count": 65,
      "outputs": [
        {
          "output_type": "execute_result",
          "data": {
            "text/plain": [
              "False"
            ]
          },
          "metadata": {},
          "execution_count": 65
        }
      ]
    },
    {
      "cell_type": "code",
      "source": [
        "t = (3, 'Hello World', True)"
      ],
      "metadata": {
        "id": "olFXuUkauUMf"
      },
      "execution_count": 66,
      "outputs": []
    },
    {
      "cell_type": "code",
      "source": [
        "t[0]"
      ],
      "metadata": {
        "colab": {
          "base_uri": "https://localhost:8080/"
        },
        "id": "1_nBmJADuUKU",
        "outputId": "d9408e7e-7ec0-42f0-c5ac-673d565c6f0d"
      },
      "execution_count": 67,
      "outputs": [
        {
          "output_type": "execute_result",
          "data": {
            "text/plain": [
              "3"
            ]
          },
          "metadata": {},
          "execution_count": 67
        }
      ]
    },
    {
      "cell_type": "code",
      "source": [
        "t[-1]"
      ],
      "metadata": {
        "colab": {
          "base_uri": "https://localhost:8080/"
        },
        "id": "tQgdkN3vuUHU",
        "outputId": "3872d6f5-d115-4004-e3d3-b71a8ecfc6cf"
      },
      "execution_count": 68,
      "outputs": [
        {
          "output_type": "execute_result",
          "data": {
            "text/plain": [
              "True"
            ]
          },
          "metadata": {},
          "execution_count": 68
        }
      ]
    },
    {
      "cell_type": "code",
      "source": [
        "user = {\n",
        "    \"name\": \"Mary Smith\",\n",
        "    \"email\": \"mary@example.com\",\n",
        "    \"age\": 30,\n",
        "    \"subscribed\": True\n",
        "}"
      ],
      "metadata": {
        "id": "cTZXuy5TuUEu"
      },
      "execution_count": 69,
      "outputs": []
    },
    {
      "cell_type": "code",
      "source": [
        "user"
      ],
      "metadata": {
        "colab": {
          "base_uri": "https://localhost:8080/"
        },
        "id": "9g0qplepuUB6",
        "outputId": "fd06c1c1-4768-4794-df14-51698b2edf2a"
      },
      "execution_count": 70,
      "outputs": [
        {
          "output_type": "execute_result",
          "data": {
            "text/plain": [
              "{'name': 'Mary Smith',\n",
              " 'email': 'mary@example.com',\n",
              " 'age': 30,\n",
              " 'subscribed': True}"
            ]
          },
          "metadata": {},
          "execution_count": 70
        }
      ]
    },
    {
      "cell_type": "code",
      "source": [
        "user['email']\n"
      ],
      "metadata": {
        "colab": {
          "base_uri": "https://localhost:8080/",
          "height": 35
        },
        "id": "tvK_WSYUuT_J",
        "outputId": "7d5d0a06-36e4-4a82-98c4-d82cce7296a9"
      },
      "execution_count": 71,
      "outputs": [
        {
          "output_type": "execute_result",
          "data": {
            "text/plain": [
              "'mary@example.com'"
            ],
            "application/vnd.google.colaboratory.intrinsic+json": {
              "type": "string"
            }
          },
          "metadata": {},
          "execution_count": 71
        }
      ]
    },
    {
      "cell_type": "code",
      "source": [
        "'age' in user"
      ],
      "metadata": {
        "colab": {
          "base_uri": "https://localhost:8080/"
        },
        "id": "Xa4dlVPOuT8u",
        "outputId": "1521bb13-9a34-48c3-d35a-00434f1afbfa"
      },
      "execution_count": 72,
      "outputs": [
        {
          "output_type": "execute_result",
          "data": {
            "text/plain": [
              "True"
            ]
          },
          "metadata": {},
          "execution_count": 72
        }
      ]
    },
    {
      "cell_type": "code",
      "source": [
        "'last_name' in user"
      ],
      "metadata": {
        "colab": {
          "base_uri": "https://localhost:8080/"
        },
        "id": "cq-VTOwCuT6K",
        "outputId": "b2542c14-2d50-4ba7-a5cf-2ced1336956c"
      },
      "execution_count": 73,
      "outputs": [
        {
          "output_type": "execute_result",
          "data": {
            "text/plain": [
              "False"
            ]
          },
          "metadata": {},
          "execution_count": 73
        }
      ]
    },
    {
      "cell_type": "code",
      "source": [
        "s = {3, 1, 3, 7, 9, 1, 3, 1}"
      ],
      "metadata": {
        "id": "W8dnNOXIuT3n"
      },
      "execution_count": 74,
      "outputs": []
    },
    {
      "cell_type": "code",
      "source": [
        "s"
      ],
      "metadata": {
        "colab": {
          "base_uri": "https://localhost:8080/"
        },
        "id": "793_Qt59uT1R",
        "outputId": "f589e9a0-ae3b-4e72-aa40-a5155b9b2d51"
      },
      "execution_count": 75,
      "outputs": [
        {
          "output_type": "execute_result",
          "data": {
            "text/plain": [
              "{1, 3, 7, 9}"
            ]
          },
          "metadata": {},
          "execution_count": 75
        }
      ]
    },
    {
      "cell_type": "code",
      "source": [
        "s.add(10)\n"
      ],
      "metadata": {
        "id": "bZY-PcwauTyq"
      },
      "execution_count": 76,
      "outputs": []
    },
    {
      "cell_type": "code",
      "source": [
        "s.pop()"
      ],
      "metadata": {
        "colab": {
          "base_uri": "https://localhost:8080/"
        },
        "id": "M59wyP-3uTwN",
        "outputId": "7c295452-7c76-4f93-bd99-2bc70012d526"
      },
      "execution_count": 77,
      "outputs": [
        {
          "output_type": "execute_result",
          "data": {
            "text/plain": [
              "1"
            ]
          },
          "metadata": {},
          "execution_count": 77
        }
      ]
    },
    {
      "cell_type": "code",
      "source": [
        "l = [3, 'Hello World', True]"
      ],
      "metadata": {
        "id": "ZKmGSehquTts"
      },
      "execution_count": 78,
      "outputs": []
    },
    {
      "cell_type": "code",
      "source": [
        "for elem in l:\n",
        "    print(elem)"
      ],
      "metadata": {
        "colab": {
          "base_uri": "https://localhost:8080/"
        },
        "id": "Fkn0yDy6uTrj",
        "outputId": "5abd6e01-da4e-41e0-c4c1-2a79ebcd0d21"
      },
      "execution_count": 79,
      "outputs": [
        {
          "output_type": "stream",
          "name": "stdout",
          "text": [
            "3\n",
            "Hello World\n",
            "True\n"
          ]
        }
      ]
    },
    {
      "cell_type": "code",
      "source": [
        "for key in user:\n",
        "    print(key.title(), '=>', user[key])"
      ],
      "metadata": {
        "colab": {
          "base_uri": "https://localhost:8080/"
        },
        "id": "NIOVw1-ruTpy",
        "outputId": "19ec417f-d243-4a04-9c6a-dbdb049bba79"
      },
      "execution_count": 80,
      "outputs": [
        {
          "output_type": "stream",
          "name": "stdout",
          "text": [
            "Name => Mary Smith\n",
            "Email => mary@example.com\n",
            "Age => 30\n",
            "Subscribed => True\n"
          ]
        }
      ]
    },
    {
      "cell_type": "code",
      "source": [
        "import random"
      ],
      "metadata": {
        "id": "1hjAXE4yuTnP"
      },
      "execution_count": 81,
      "outputs": []
    },
    {
      "cell_type": "code",
      "source": [
        "random.randint(0, 99)"
      ],
      "metadata": {
        "colab": {
          "base_uri": "https://localhost:8080/"
        },
        "id": "Ta9pxWXWuTlA",
        "outputId": "21e2a752-b13c-4fca-b0e4-a5101d503f43"
      },
      "execution_count": 82,
      "outputs": [
        {
          "output_type": "execute_result",
          "data": {
            "text/plain": [
              "0"
            ]
          },
          "metadata": {},
          "execution_count": 82
        }
      ]
    },
    {
      "cell_type": "code",
      "source": [
        "age = \"30\""
      ],
      "metadata": {
        "id": "dPJw7sfGuTiE"
      },
      "execution_count": 83,
      "outputs": []
    },
    {
      "cell_type": "code",
      "source": [
        "try:\n",
        "    if age > 21:\n",
        "        print(\"Allowed entrance\")\n",
        "except:\n",
        "    print(\"Something went wrong\")"
      ],
      "metadata": {
        "colab": {
          "base_uri": "https://localhost:8080/"
        },
        "id": "rdSoZLhDuS0I",
        "outputId": "e7dff9b9-7865-42ea-cca1-5eb9e25309be"
      },
      "execution_count": 84,
      "outputs": [
        {
          "output_type": "stream",
          "name": "stdout",
          "text": [
            "Something went wrong\n"
          ]
        }
      ]
    },
    {
      "cell_type": "code",
      "source": [
        "try:\n",
        "    if age > 21:\n",
        "        print(\"Allowed entrance\")\n",
        "except TypeError:\n",
        "    print(\"Age is probably of a wrong type\")"
      ],
      "metadata": {
        "colab": {
          "base_uri": "https://localhost:8080/"
        },
        "id": "Uv5CQxfsvV7W",
        "outputId": "3690a94c-dce9-4b2d-d554-db277b43dedd"
      },
      "execution_count": 85,
      "outputs": [
        {
          "output_type": "stream",
          "name": "stdout",
          "text": [
            "Age is probably of a wrong type\n"
          ]
        }
      ]
    }
  ]
}